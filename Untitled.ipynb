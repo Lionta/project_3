{
 "cells": [
  {
   "cell_type": "code",
   "execution_count": 1,
   "id": "d69bf982",
   "metadata": {},
   "outputs": [],
   "source": [
    "import pandas as pd\n"
   ]
  },
  {
   "cell_type": "code",
   "execution_count": 7,
   "id": "e0db5472",
   "metadata": {},
   "outputs": [
    {
     "data": {
      "text/plain": [
       "array(['Unnamed: 0', 'Unnamed: 0.1', 'realtime_start', 'realtime_end',\n",
       "       'date', 'value', 'Date', 'Microsoft Open', 'Close Microsoft',\n",
       "       'Apple Open', 'Apple Close', 'Amazon Open', 'Amazon Close',\n",
       "       'IBM Open', 'IBM Close', 'Nike Open', 'Nike Close'], dtype=object)"
      ]
     },
     "execution_count": 7,
     "metadata": {},
     "output_type": "execute_result"
    }
   ],
   "source": [
    "unclean = \"./Dataset.csv\"\n",
    "unclean_df = pd.read_csv(unclean);\n",
    "unclean_df.columns.values"
   ]
  },
  {
   "cell_type": "code",
   "execution_count": 8,
   "id": "8cf96560",
   "metadata": {},
   "outputs": [
    {
     "data": {
      "text/html": [
       "<div>\n",
       "<style scoped>\n",
       "    .dataframe tbody tr th:only-of-type {\n",
       "        vertical-align: middle;\n",
       "    }\n",
       "\n",
       "    .dataframe tbody tr th {\n",
       "        vertical-align: top;\n",
       "    }\n",
       "\n",
       "    .dataframe thead th {\n",
       "        text-align: right;\n",
       "    }\n",
       "</style>\n",
       "<table border=\"1\" class=\"dataframe\">\n",
       "  <thead>\n",
       "    <tr style=\"text-align: right;\">\n",
       "      <th></th>\n",
       "      <th>date</th>\n",
       "      <th>value</th>\n",
       "      <th>Date</th>\n",
       "      <th>Close Microsoft</th>\n",
       "      <th>Apple Close</th>\n",
       "      <th>Amazon Close</th>\n",
       "      <th>IBM Close</th>\n",
       "      <th>Nike Open</th>\n",
       "      <th>Nike Close</th>\n",
       "    </tr>\n",
       "  </thead>\n",
       "  <tbody>\n",
       "    <tr>\n",
       "      <th>0</th>\n",
       "      <td>1946-01-01</td>\n",
       "      <td>.</td>\n",
       "      <td>3/27/2018</td>\n",
       "      <td>89.47</td>\n",
       "      <td>168.340</td>\n",
       "      <td>1497.05</td>\n",
       "      <td>151.91</td>\n",
       "      <td>65.89</td>\n",
       "      <td>66.17</td>\n",
       "    </tr>\n",
       "    <tr>\n",
       "      <th>1</th>\n",
       "      <td>1946-04-01</td>\n",
       "      <td>.</td>\n",
       "      <td>3/26/2018</td>\n",
       "      <td>93.78</td>\n",
       "      <td>172.770</td>\n",
       "      <td>1555.86</td>\n",
       "      <td>153.37</td>\n",
       "      <td>65.08</td>\n",
       "      <td>65.90</td>\n",
       "    </tr>\n",
       "    <tr>\n",
       "      <th>2</th>\n",
       "      <td>1946-07-01</td>\n",
       "      <td>.</td>\n",
       "      <td>3/23/2018</td>\n",
       "      <td>87.18</td>\n",
       "      <td>164.940</td>\n",
       "      <td>1495.56</td>\n",
       "      <td>148.89</td>\n",
       "      <td>66.70</td>\n",
       "      <td>64.63</td>\n",
       "    </tr>\n",
       "    <tr>\n",
       "      <th>3</th>\n",
       "      <td>1946-10-01</td>\n",
       "      <td>.</td>\n",
       "      <td>3/22/2018</td>\n",
       "      <td>89.79</td>\n",
       "      <td>168.845</td>\n",
       "      <td>1544.10</td>\n",
       "      <td>152.09</td>\n",
       "      <td>65.60</td>\n",
       "      <td>64.42</td>\n",
       "    </tr>\n",
       "    <tr>\n",
       "      <th>4</th>\n",
       "      <td>1947-01-01</td>\n",
       "      <td>243.164</td>\n",
       "      <td>3/21/2018</td>\n",
       "      <td>92.48</td>\n",
       "      <td>171.270</td>\n",
       "      <td>1581.86</td>\n",
       "      <td>156.69</td>\n",
       "      <td>66.73</td>\n",
       "      <td>66.35</td>\n",
       "    </tr>\n",
       "  </tbody>\n",
       "</table>\n",
       "</div>"
      ],
      "text/plain": [
       "         date    value       Date  Close Microsoft  Apple Close  Amazon Close  \\\n",
       "0  1946-01-01        .  3/27/2018            89.47      168.340       1497.05   \n",
       "1  1946-04-01        .  3/26/2018            93.78      172.770       1555.86   \n",
       "2  1946-07-01        .  3/23/2018            87.18      164.940       1495.56   \n",
       "3  1946-10-01        .  3/22/2018            89.79      168.845       1544.10   \n",
       "4  1947-01-01  243.164  3/21/2018            92.48      171.270       1581.86   \n",
       "\n",
       "   IBM Close  Nike Open  Nike Close  \n",
       "0     151.91      65.89       66.17  \n",
       "1     153.37      65.08       65.90  \n",
       "2     148.89      66.70       64.63  \n",
       "3     152.09      65.60       64.42  \n",
       "4     156.69      66.73       66.35  "
      ]
     },
     "execution_count": 8,
     "metadata": {},
     "output_type": "execute_result"
    }
   ],
   "source": [
    "clean_df = unclean_df.drop(['Unnamed: 0', 'Unnamed: 0.1','realtime_start', 'realtime_end','Microsoft Open', 'Apple Open', 'Amazon Open', 'IBM Open'], axis=1)\n",
    "clean_df.head()"
   ]
  },
  {
   "cell_type": "code",
   "execution_count": null,
   "id": "681f67f2",
   "metadata": {},
   "outputs": [],
   "source": []
  }
 ],
 "metadata": {
  "kernelspec": {
   "display_name": "Python 3 (ipykernel)",
   "language": "python",
   "name": "python3"
  },
  "language_info": {
   "codemirror_mode": {
    "name": "ipython",
    "version": 3
   },
   "file_extension": ".py",
   "mimetype": "text/x-python",
   "name": "python",
   "nbconvert_exporter": "python",
   "pygments_lexer": "ipython3",
   "version": "3.7.7"
  }
 },
 "nbformat": 4,
 "nbformat_minor": 5
}
